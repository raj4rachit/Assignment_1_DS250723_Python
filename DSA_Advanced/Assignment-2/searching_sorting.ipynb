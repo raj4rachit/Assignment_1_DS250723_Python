{
 "cells": [
  {
   "cell_type": "code",
   "execution_count": 2,
   "id": "e3b84016",
   "metadata": {},
   "outputs": [
    {
     "name": "stdout",
     "output_type": "stream",
     "text": [
      "Sorted array [1, 2, 5, 9, 48, 258]\n",
      "Element 48 found at index 4\n"
     ]
    }
   ],
   "source": [
    "# Implement Binary Search\n",
    "\n",
    "def binary_search(arr, target):\n",
    "    left, right = 0, len(arr) - 1\n",
    "    \n",
    "    while left <= right:\n",
    "        mid = left + (right - left) // 2  # Calculate the middle index\n",
    "        \n",
    "        # Check if the middle element is the target\n",
    "        if arr[mid] == target:\n",
    "            return mid  # Element found, return its index\n",
    "        \n",
    "        # If the target is smaller, search in the left half\n",
    "        elif arr[mid] > target:\n",
    "            right = mid - 1\n",
    "        \n",
    "        # If the target is larger, search in the right half\n",
    "        else:\n",
    "            left = mid + 1\n",
    "    \n",
    "    return -1  # Element not found in the array\n",
    "\n",
    "# Get user input for the sorted array\n",
    "arr_str = input(\"Enter a sorted array of numbers separated by spaces: \")\n",
    "arr = [int(x) for x in arr_str.split()]\n",
    "\n",
    "# Get user input for the target element\n",
    "target = int(input(\"Enter the target element: \"))\n",
    "\n",
    "print(f\"Sorted array {arr}\")\n",
    "\n",
    "# Call the binary_search function\n",
    "result = binary_search(arr, target)\n",
    "\n",
    "if result != -1:\n",
    "    print(f\"Element {target} found at index {result}\")\n",
    "else:\n",
    "    print(f\"Element {target} not found in the array\")\n"
   ]
  },
  {
   "cell_type": "code",
   "execution_count": 3,
   "id": "b1edf6f8",
   "metadata": {},
   "outputs": [
    {
     "name": "stdout",
     "output_type": "stream",
     "text": [
      "Original array [5, 2, 1, 7, 8, 6, 3, 4]\n",
      "Sorted array: [1, 2, 3, 4, 5, 6, 7, 8]\n"
     ]
    }
   ],
   "source": [
    "# Implement Merge Sort\n",
    "\n",
    "def merge_sort(arr):\n",
    "    if len(arr) <= 1:\n",
    "        return arr\n",
    "\n",
    "    # Divide the input array into two halves\n",
    "    mid = len(arr) // 2\n",
    "    left_half = arr[:mid]\n",
    "    right_half = arr[mid:]\n",
    "\n",
    "    # Recursively sort each half\n",
    "    left_half = merge_sort(left_half)\n",
    "    right_half = merge_sort(right_half)\n",
    "\n",
    "    # Merge the sorted halves\n",
    "    return merge(left_half, right_half)\n",
    "\n",
    "def merge(left, right):\n",
    "    result = []\n",
    "    left_index, right_index = 0, 0\n",
    "\n",
    "    while left_index < len(left) and right_index < len(right):\n",
    "        if left[left_index] < right[right_index]:\n",
    "            result.append(left[left_index])\n",
    "            left_index += 1\n",
    "        else:\n",
    "            result.append(right[right_index])\n",
    "            right_index += 1\n",
    "\n",
    "    # Append any remaining elements from both halves\n",
    "    result.extend(left[left_index:])\n",
    "    result.extend(right[right_index:])\n",
    "\n",
    "    return result\n",
    "\n",
    "# Get user input for the unsorted list of numbers\n",
    "arr_str = input(\"Enter a list of numbers separated by spaces: \")\n",
    "arr = [int(x) for x in arr_str.split()]\n",
    "\n",
    "print(f\"Original array {arr}\")\n",
    "\n",
    "# Call the merge_sort function\n",
    "sorted_arr = merge_sort(arr)\n",
    "\n",
    "# Print the sorted array\n",
    "print(\"Sorted array:\", sorted_arr)\n"
   ]
  },
  {
   "cell_type": "code",
   "execution_count": 4,
   "id": "fb77aa43",
   "metadata": {},
   "outputs": [
    {
     "name": "stdout",
     "output_type": "stream",
     "text": [
      "Original array [9, 5, 4, 1, 2, 3, 8, 12, 15]\n",
      "Sorted array: [1, 2, 3, 4, 5, 8, 9, 12, 15]\n"
     ]
    }
   ],
   "source": [
    "# Implement Quick Sort\n",
    "\n",
    "def quick_sort(arr):\n",
    "    if len(arr) <= 1:\n",
    "        return arr\n",
    "\n",
    "    pivot = arr[len(arr) // 2]\n",
    "    left = [x for x in arr if x < pivot]\n",
    "    middle = [x for x in arr if x == pivot]\n",
    "    right = [x for x in arr if x > pivot]\n",
    "\n",
    "    return quick_sort(left) + middle + quick_sort(right)\n",
    "\n",
    "# Get user input for the unsorted list of numbers\n",
    "arr_str = input(\"Enter a list of numbers separated by spaces: \")\n",
    "arr = [int(x) for x in arr_str.split()]\n",
    "\n",
    "print(f\"Original array {arr}\")\n",
    "\n",
    "# Call the quick_sort function\n",
    "sorted_arr = quick_sort(arr)\n",
    "\n",
    "# Print the sorted array\n",
    "print(\"Sorted array:\", sorted_arr)\n"
   ]
  },
  {
   "cell_type": "code",
   "execution_count": 5,
   "id": "ec2b1c67",
   "metadata": {},
   "outputs": [
    {
     "name": "stdout",
     "output_type": "stream",
     "text": [
      "Original array [6, 3, 5, 2, 4, 8, 1, 7]\n",
      "Sorted array: [1, 2, 3, 4, 5, 6, 7, 8]\n"
     ]
    }
   ],
   "source": [
    "# Implement Insertion Sort\n",
    "\n",
    "def insertion_sort(arr):\n",
    "    for i in range(1, len(arr)):\n",
    "        key = arr[i]\n",
    "        j = i - 1\n",
    "\n",
    "        while j >= 0 and key < arr[j]:\n",
    "            arr[j + 1] = arr[j]\n",
    "            j -= 1\n",
    "\n",
    "        arr[j + 1] = key\n",
    "\n",
    "# Get user input for the unsorted list of numbers\n",
    "arr_str = input(\"Enter a list of numbers separated by spaces: \")\n",
    "arr = [int(x) for x in arr_str.split()]\n",
    "\n",
    "print(f\"Original array {arr}\")\n",
    "\n",
    "# Call the insertion_sort function\n",
    "insertion_sort(arr)\n",
    "\n",
    "# Print the sorted array\n",
    "print(\"Sorted array:\", arr)\n"
   ]
  },
  {
   "cell_type": "code",
   "execution_count": 6,
   "id": "586ddfa7",
   "metadata": {},
   "outputs": [
    {
     "name": "stdout",
     "output_type": "stream",
     "text": [
      "Sorted list of strings:\n",
      "apple\n",
      "banana\n",
      "prachi\n",
      "rachit\n",
      "raj\n"
     ]
    }
   ],
   "source": [
    "# Write a program to sort list of strings (similar to that of dictionary)\n",
    "\n",
    "# Get user input for a list of strings separated by spaces\n",
    "input_str = input(\"Enter a list of strings separated by spaces: \")\n",
    "input_list = input_str.split()\n",
    "\n",
    "# Sort the list of strings in lexicographic order\n",
    "sorted_list = sorted(input_list)\n",
    "\n",
    "# Print the sorted list\n",
    "print(\"Sorted list:\")\n",
    "for word in sorted_list:\n",
    "    print(word)\n"
   ]
  }
 ],
 "metadata": {
  "kernelspec": {
   "display_name": "Python 3",
   "language": "python",
   "name": "python3"
  },
  "language_info": {
   "codemirror_mode": {
    "name": "ipython",
    "version": 3
   },
   "file_extension": ".py",
   "mimetype": "text/x-python",
   "name": "python",
   "nbconvert_exporter": "python",
   "pygments_lexer": "ipython3",
   "version": "3.11.3"
  }
 },
 "nbformat": 4,
 "nbformat_minor": 5
}
