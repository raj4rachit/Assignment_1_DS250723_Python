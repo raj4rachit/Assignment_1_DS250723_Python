{
  "nbformat": 4,
  "nbformat_minor": 0,
  "metadata": {
    "colab": {
      "provenance": []
    },
    "kernelspec": {
      "name": "python3",
      "display_name": "Python 3"
    },
    "language_info": {
      "name": "python"
    }
  },
  "cells": [
    {
      "cell_type": "markdown",
      "source": [
        "# Import necessary libraries"
      ],
      "metadata": {
        "id": "pV6iRqAQw9v-"
      }
    },
    {
      "cell_type": "code",
      "execution_count": 1,
      "metadata": {
        "id": "gjzeQvYGwVD9"
      },
      "outputs": [],
      "source": [
        "import pandas as pd\n",
        "import matplotlib.pyplot as plt\n",
        "import seaborn as sns\n",
        "from sklearn.cluster import KMeans\n",
        "from sklearn.preprocessing import StandardScaler\n",
        "from sklearn.metrics import silhouette_score"
      ]
    },
    {
      "cell_type": "markdown",
      "source": [
        "# Load the dataset"
      ],
      "metadata": {
        "id": "omFVlzhAxFIj"
      }
    },
    {
      "cell_type": "code",
      "source": [
        "url = \"https://raw.githubusercontent.com/edyoda/data-science-complete-tutorial/master/Data/house_rental_data.csv.txt\"\n",
        "df = pd.read_csv(url)\n",
        "df.info()"
      ],
      "metadata": {
        "colab": {
          "base_uri": "https://localhost:8080/"
        },
        "id": "faBqGu-MxGzL",
        "outputId": "2c30ec39-9456-43e3-8199-80290f19078a"
      },
      "execution_count": 3,
      "outputs": [
        {
          "output_type": "stream",
          "name": "stdout",
          "text": [
            "<class 'pandas.core.frame.DataFrame'>\n",
            "RangeIndex: 645 entries, 0 to 644\n",
            "Data columns (total 8 columns):\n",
            " #   Column       Non-Null Count  Dtype  \n",
            "---  ------       --------------  -----  \n",
            " 0   Unnamed: 0   645 non-null    int64  \n",
            " 1   Sqft         645 non-null    float64\n",
            " 2   Floor        645 non-null    int64  \n",
            " 3   TotalFloor   645 non-null    int64  \n",
            " 4   Bedroom      645 non-null    int64  \n",
            " 5   Living.Room  645 non-null    int64  \n",
            " 6   Bathroom     645 non-null    int64  \n",
            " 7   Price        645 non-null    int64  \n",
            "dtypes: float64(1), int64(7)\n",
            "memory usage: 40.4 KB\n"
          ]
        }
      ]
    },
    {
      "cell_type": "markdown",
      "source": [
        "# 1. Data cleaning & getting rid of irrelevant information before clustering"
      ],
      "metadata": {
        "id": "1Mr-AMv3xTmy"
      }
    },
    {
      "cell_type": "code",
      "source": [
        "df_cleaned = df.drop(['Unnamed: 0'], axis=1)"
      ],
      "metadata": {
        "id": "a7p_iuhWxe5q"
      },
      "execution_count": 4,
      "outputs": []
    },
    {
      "cell_type": "code",
      "source": [
        "scaler = StandardScaler()\n",
        "df_scaled = scaler.fit_transform(df_cleaned)"
      ],
      "metadata": {
        "id": "7DXS8YBfyiCj"
      },
      "execution_count": 5,
      "outputs": []
    },
    {
      "cell_type": "markdown",
      "source": [
        "# Finding the optimal value of k"
      ],
      "metadata": {
        "id": "gvlKndm-ylG9"
      }
    },
    {
      "cell_type": "code",
      "source": [
        "sse = []\n",
        "for k in range(2, 11):\n",
        "    kmeans = KMeans(n_clusters=k, random_state=42)\n",
        "    kmeans.fit(df_scaled)\n",
        "    sse.append(kmeans.inertia_)\n",
        "\n",
        "# Plotting the Elbow Curve\n",
        "plt.plot(range(2, 11), sse, marker='o')\n",
        "plt.xlabel('Number of Clusters (k)')\n",
        "plt.ylabel('Sum of Squared Distances')\n",
        "plt.title('Elbow Method for Optimal k')\n",
        "plt.show()"
      ],
      "metadata": {
        "colab": {
          "base_uri": "https://localhost:8080/",
          "height": 819
        },
        "id": "wXN3jKy9yoY7",
        "outputId": "2e637a22-bac7-4b96-ab21-86701de81a5d"
      },
      "execution_count": 7,
      "outputs": [
        {
          "output_type": "stream",
          "name": "stderr",
          "text": [
            "/usr/local/lib/python3.10/dist-packages/sklearn/cluster/_kmeans.py:870: FutureWarning: The default value of `n_init` will change from 10 to 'auto' in 1.4. Set the value of `n_init` explicitly to suppress the warning\n",
            "  warnings.warn(\n",
            "/usr/local/lib/python3.10/dist-packages/sklearn/cluster/_kmeans.py:870: FutureWarning: The default value of `n_init` will change from 10 to 'auto' in 1.4. Set the value of `n_init` explicitly to suppress the warning\n",
            "  warnings.warn(\n",
            "/usr/local/lib/python3.10/dist-packages/sklearn/cluster/_kmeans.py:870: FutureWarning: The default value of `n_init` will change from 10 to 'auto' in 1.4. Set the value of `n_init` explicitly to suppress the warning\n",
            "  warnings.warn(\n",
            "/usr/local/lib/python3.10/dist-packages/sklearn/cluster/_kmeans.py:870: FutureWarning: The default value of `n_init` will change from 10 to 'auto' in 1.4. Set the value of `n_init` explicitly to suppress the warning\n",
            "  warnings.warn(\n",
            "/usr/local/lib/python3.10/dist-packages/sklearn/cluster/_kmeans.py:870: FutureWarning: The default value of `n_init` will change from 10 to 'auto' in 1.4. Set the value of `n_init` explicitly to suppress the warning\n",
            "  warnings.warn(\n",
            "/usr/local/lib/python3.10/dist-packages/sklearn/cluster/_kmeans.py:870: FutureWarning: The default value of `n_init` will change from 10 to 'auto' in 1.4. Set the value of `n_init` explicitly to suppress the warning\n",
            "  warnings.warn(\n",
            "/usr/local/lib/python3.10/dist-packages/sklearn/cluster/_kmeans.py:870: FutureWarning: The default value of `n_init` will change from 10 to 'auto' in 1.4. Set the value of `n_init` explicitly to suppress the warning\n",
            "  warnings.warn(\n",
            "/usr/local/lib/python3.10/dist-packages/sklearn/cluster/_kmeans.py:870: FutureWarning: The default value of `n_init` will change from 10 to 'auto' in 1.4. Set the value of `n_init` explicitly to suppress the warning\n",
            "  warnings.warn(\n",
            "/usr/local/lib/python3.10/dist-packages/sklearn/cluster/_kmeans.py:870: FutureWarning: The default value of `n_init` will change from 10 to 'auto' in 1.4. Set the value of `n_init` explicitly to suppress the warning\n",
            "  warnings.warn(\n"
          ]
        },
        {
          "output_type": "display_data",
          "data": {
            "text/plain": [
              "<Figure size 640x480 with 1 Axes>"
            ],
            "image/png": "[encoded data removed]"
          },
          "metadata": {}
        }
      ]
    },
    {
      "cell_type": "code",
      "source": [
        "# Calculate the optimal value of k using the Elbow Method\n",
        "diff = [sse[i] - sse[i+1] for i in range(len(sse)-1)]\n",
        "k_optimal = diff.index(max(diff)) + 2  # Adding 2 because range started from 2\n",
        "print(f\"The optimal value of k is: {k_optimal}\")"
      ],
      "metadata": {
        "colab": {
          "base_uri": "https://localhost:8080/"
        },
        "id": "1P0p2_z_zcYf",
        "outputId": "97fe3649-b4fb-41a0-cc3f-9d18ed6f29d1"
      },
      "execution_count": 11,
      "outputs": [
        {
          "output_type": "stream",
          "name": "stdout",
          "text": [
            "The optimal value of k is: 2\n"
          ]
        }
      ]
    },
    {
      "cell_type": "markdown",
      "source": [
        "# 3. Storing cluster to which the house belongs along with the data"
      ],
      "metadata": {
        "id": "AeEzUbUGzpiy"
      }
    },
    {
      "cell_type": "code",
      "source": [
        "kmeans_final = KMeans(n_clusters=k_optimal, random_state=42)\n",
        "df_cleaned['cluster'] = kmeans_final.fit_predict(df_scaled)\n",
        "\n",
        "# Display the cluster information along with the data\n",
        "print(df_cleaned[['Price', 'cluster']])"
      ],
      "metadata": {
        "colab": {
          "base_uri": "https://localhost:8080/"
        },
        "id": "Qgvtdfbmzrbb",
        "outputId": "32af9261-71fb-40e5-fb99-76aea12f1b4f"
      },
      "execution_count": 12,
      "outputs": [
        {
          "output_type": "stream",
          "name": "stdout",
          "text": [
            "     Price  cluster\n",
            "0    62000        0\n",
            "1    78000        0\n",
            "2    58000        1\n",
            "3    45000        0\n",
            "4    45000        0\n",
            "..     ...      ...\n",
            "640  45000        0\n",
            "641  24800        1\n",
            "642  45000        1\n",
            "643  65000        0\n",
            "644  36000        1\n",
            "\n",
            "[645 rows x 2 columns]\n"
          ]
        },
        {
          "output_type": "stream",
          "name": "stderr",
          "text": [
            "/usr/local/lib/python3.10/dist-packages/sklearn/cluster/_kmeans.py:870: FutureWarning: The default value of `n_init` will change from 10 to 'auto' in 1.4. Set the value of `n_init` explicitly to suppress the warning\n",
            "  warnings.warn(\n"
          ]
        }
      ]
    }
  ]
}