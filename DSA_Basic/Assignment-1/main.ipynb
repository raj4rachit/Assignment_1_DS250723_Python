{
 "cells": [
  {
   "cell_type": "code",
   "execution_count": 2,
   "id": "initial_id",
   "metadata": {
    "collapsed": true
   },
   "outputs": [
    {
     "name": "stdout",
     "output_type": "stream",
     "text": [
      "Pairs with sum 13: [(7, 6), (8, 5), (9, 4), (10, 3), (11, 2), (12, 1)]\n"
     ]
    }
   ],
   "source": [
    "# Write a program to find all pairs of an integer array whose sum is equal to a given number.\n",
    "\n",
    "def find_pairs_with_sum(arr, target_sum):\n",
    "    pairs = []\n",
    "    seen = set()  # To keep track of seen numbers\n",
    "    \n",
    "    for num in arr:\n",
    "        complement = target_sum - num\n",
    "        \n",
    "        if complement in seen:\n",
    "            pairs.append((num, complement))\n",
    "        \n",
    "        seen.add(num)\n",
    "    \n",
    "    return pairs\n",
    "\n",
    "# Get user input for the array\n",
    "arr = input(\"Enter integers separated by spaces: \").split()\n",
    "arr = [int(x) for x in arr]\n",
    "\n",
    "# Get user input for the target sum\n",
    "target_sum = int(input(\"Enter the target sum: \"))\n",
    "\n",
    "result = find_pairs_with_sum(arr, target_sum)\n",
    "\n",
    "if result:\n",
    "    print(f\"Pairs with sum {target_sum}: {result}\")\n",
    "else:\n",
    "    print(\"No pairs found with the given sum.\")\n"
   ]
  },
  {
   "cell_type": "code",
   "execution_count": 3,
   "id": "ab552c2f",
   "metadata": {},
   "outputs": [
    {
     "name": "stdout",
     "output_type": "stream",
     "text": [
      "Reversed array: [8, 78, 6, 5, 4, 3, 2, 1]\n"
     ]
    }
   ],
   "source": [
    "# Write a program to reverse an array in place? In place means you cannot create a new array. You have to update the original array.\n",
    "\n",
    "def reverse_array(arr):\n",
    "    start = 0\n",
    "    end = len(arr) - 1\n",
    "\n",
    "    while start < end:\n",
    "        # Swap elements at start and end\n",
    "        arr[start], arr[end] = arr[end], arr[start]\n",
    "\n",
    "        # Move indices towards the center\n",
    "        start += 1\n",
    "        end -= 1\n",
    "\n",
    "# Get user input for the array\n",
    "arr = input(\"Enter integers separated by spaces: \").split()\n",
    "arr = [int(x) for x in arr]\n",
    "\n",
    "reverse_array(arr)\n",
    "\n",
    "print(\"Reversed array:\", arr)\n"
   ]
  },
  {
   "cell_type": "code",
   "execution_count": 7,
   "id": "b9e4bee8",
   "metadata": {},
   "outputs": [
    {
     "name": "stdout",
     "output_type": "stream",
     "text": [
      "'prachi' and 'chipra' are rotations of each other.\n"
     ]
    }
   ],
   "source": [
    "# Write a program to check if two strings are a rotation of each other?\n",
    "\n",
    "def are_rotations(str1, str2):\n",
    "    if len(str1) != len(str2):\n",
    "        return False\n",
    "\n",
    "    concatenated = str2 + str2\n",
    "    return str1 in concatenated\n",
    "\n",
    "# Get user input for the two strings\n",
    "str1 = input(\"Enter the first string: \")\n",
    "str2 = input(\"Enter the second string: \")\n",
    "\n",
    "if are_rotations(str1, str2):\n",
    "    print(f\"'{str1}' and '{str2}' are rotations of each other.\")\n",
    "else:\n",
    "    print(f\"'{str1}' and '{str2}' are not rotations of each other.\")\n"
   ]
  },
  {
   "cell_type": "code",
   "execution_count": 10,
   "id": "e9e84f91",
   "metadata": {},
   "outputs": [
    {
     "name": "stdout",
     "output_type": "stream",
     "text": [
      "The first non-repeated character in 'pavit' is: p\n"
     ]
    }
   ],
   "source": [
    "# Write a program to print the first non-repeated character from a string?\n",
    "\n",
    "def first_non_repeated_char(input_str):\n",
    "    char_count = {}\n",
    "    \n",
    "    for char in input_str:\n",
    "        # Update the character count\n",
    "        char_count[char] = char_count.get(char, 0) + 1\n",
    "    \n",
    "    for char in input_str:\n",
    "        if char_count[char] == 1:\n",
    "            return char\n",
    "    \n",
    "    return None\n",
    "\n",
    "# Get user input for the string\n",
    "input_str = input(\"Enter a string: \")\n",
    "\n",
    "result = first_non_repeated_char(input_str)\n",
    "\n",
    "if result:\n",
    "    print(f\"The first non-repeated character in '{input_str}' is: {result}\")\n",
    "else:\n",
    "    print(\"There are no non-repeated characters in the input string.\")\n"
   ]
  },
  {
   "cell_type": "code",
   "execution_count": 15,
   "id": "4021325a",
   "metadata": {},
   "outputs": [
    {
     "name": "stdout",
     "output_type": "stream",
     "text": [
      "Move disk 1 from A to B\n",
      "Move disk 2 from A to C\n",
      "Move disk 1 from B to C\n",
      "Move disk 3 from A to B\n",
      "Move disk 1 from C to A\n",
      "Move disk 2 from C to B\n",
      "Move disk 1 from A to B\n",
      "Move disk 4 from A to C\n",
      "Move disk 1 from B to C\n",
      "Move disk 2 from B to A\n",
      "Move disk 1 from C to A\n",
      "Move disk 3 from B to C\n",
      "Move disk 1 from A to B\n",
      "Move disk 2 from A to C\n",
      "Move disk 1 from B to C\n"
     ]
    }
   ],
   "source": [
    "# Read about the Tower of Hanoi algorithm. Write a program to implement it.\n",
    "\n",
    "def tower_of_hanoi(n, source, auxiliary, target):\n",
    "    if n == 1:\n",
    "        print(f\"Move disk 1 from {source} to {target}\")\n",
    "        return\n",
    "    tower_of_hanoi(n - 1, source, target, auxiliary)\n",
    "    print(f\"Move disk {n} from {source} to {target}\")\n",
    "    tower_of_hanoi(n - 1, auxiliary, source, target)\n",
    "\n",
    "# Get user input for the number of disks\n",
    "n = int(input(\"Enter the number of disks: \"))\n",
    "\n",
    "# Define the pegs\n",
    "source_peg = \"A\"\n",
    "auxiliary_peg = \"B\"\n",
    "target_peg = \"C\"\n",
    "\n",
    "# Call the Tower of Hanoi function\n",
    "tower_of_hanoi(n, source_peg, auxiliary_peg, target_peg)\n"
   ]
  },
  {
   "cell_type": "code",
   "execution_count": 19,
   "id": "b4e7597a",
   "metadata": {},
   "outputs": [
    {
     "name": "stdout",
     "output_type": "stream",
     "text": [
      "The Postfix expression is: 12+\n",
      "The equivalent prefix expression is: +12\n"
     ]
    }
   ],
   "source": [
    "# Read about infix, prefix, and postfix expressions. Write a program to convert postfix to prefix expression.\n",
    "\n",
    "def is_operator(char):\n",
    "    return char in \"+-*/\"\n",
    "\n",
    "def postfix_to_prefix(postfix_expression):\n",
    "    stack = []\n",
    "    \n",
    "    for char in postfix_expression:\n",
    "        if not is_operator(char):\n",
    "            stack.append(char)\n",
    "        else:\n",
    "            operand2 = stack.pop()\n",
    "            operand1 = stack.pop()\n",
    "            prefix_expression = char + operand1 + operand2\n",
    "            stack.append(prefix_expression)\n",
    "    \n",
    "    if len(stack) == 1:\n",
    "        return stack[0]\n",
    "    else:\n",
    "        return \"Invalid postfix expression\"\n",
    "\n",
    "# Get user input for the postfix expression\n",
    "postfix_expression = input(\"Enter a postfix expression: \")\n",
    "\n",
    "prefix_expression = postfix_to_prefix(postfix_expression)\n",
    "\n",
    "print(f\"The Postfix expression is: {postfix_expression}\")\n",
    "print(f\"The equivalent prefix expression is: {prefix_expression}\")\n"
   ]
  },
  {
   "cell_type": "code",
   "execution_count": 22,
   "id": "076e3d9a",
   "metadata": {},
   "outputs": [
    {
     "name": "stdout",
     "output_type": "stream",
     "text": [
      "The Perfix expression is: -85\n",
      "The equivalent infix expression is: (8-5)\n"
     ]
    }
   ],
   "source": [
    "# Write a program to convert prefix expression to infix expression.\n",
    "\n",
    "def is_operator(char):\n",
    "    return char in \"+-*/\"\n",
    "\n",
    "def prefix_to_infix(prefix_expression):\n",
    "    stack = []\n",
    "    \n",
    "    for char in reversed(prefix_expression):\n",
    "        if not is_operator(char):\n",
    "            stack.append(char)\n",
    "        else:\n",
    "            operand1 = stack.pop()\n",
    "            operand2 = stack.pop()\n",
    "            infix_expression = f\"({operand1}{char}{operand2})\"\n",
    "            stack.append(infix_expression)\n",
    "    \n",
    "    if len(stack) == 1:\n",
    "        return stack[0]\n",
    "    else:\n",
    "        return \"Invalid prefix expression\"\n",
    "\n",
    "# Get user input for the prefix expression\n",
    "prefix_expression = input(\"Enter a prefix expression: \")\n",
    "\n",
    "infix_expression = prefix_to_infix(prefix_expression)\n",
    "\n",
    "print(f\"The Perfix expression is: {prefix_expression}\")\n",
    "print(f\"The equivalent infix expression is: {infix_expression}\")\n"
   ]
  },
  {
   "cell_type": "code",
   "execution_count": 24,
   "id": "93e57834",
   "metadata": {},
   "outputs": [
    {
     "name": "stdout",
     "output_type": "stream",
     "text": [
      "Code snippet is (a + b (c*d)\n",
      "Not all brackets are properly closed.\n"
     ]
    }
   ],
   "source": [
    "# Write a program to check if all the brackets are closed in a given code snippet.\n",
    "\n",
    "def are_brackets_balanced(code):\n",
    "    stack = []\n",
    "    opening_brackets = \"([{\"\n",
    "    closing_brackets = \")]}\"\n",
    "    bracket_pairs = {')': '(', ']': '[', '}': '{'}\n",
    "    \n",
    "    for char in code:\n",
    "        if char in opening_brackets:\n",
    "            stack.append(char)\n",
    "        elif char in closing_brackets:\n",
    "            if not stack or stack[-1] != bracket_pairs[char]:\n",
    "                return False\n",
    "            stack.pop()\n",
    "    \n",
    "    return not stack\n",
    "\n",
    "# Get user input for the code snippet\n",
    "code = input(\"Enter a code snippet: \")\n",
    "\n",
    "print(f\"Code snippet is {code}\")\n",
    "if are_brackets_balanced(code):\n",
    "    print(\"All brackets are properly closed.\")\n",
    "else:\n",
    "    print(\"Not all brackets are properly closed.\")\n"
   ]
  },
  {
   "cell_type": "code",
   "execution_count": 32,
   "id": "4dcc69a8",
   "metadata": {},
   "outputs": [
    {
     "name": "stdout",
     "output_type": "stream",
     "text": [
      "Reversed stack:\n",
      "9 8 7 6 5 4 3 "
     ]
    }
   ],
   "source": [
    "# Write a program to reverse a stack.\n",
    "\n",
    "def reverse_stack(stack):\n",
    "    if not stack:\n",
    "        return  # Empty stack, nothing to reverse\n",
    "    \n",
    "    aux_stack = []\n",
    "\n",
    "    while stack:\n",
    "        aux_stack.append(stack.pop())\n",
    "\n",
    "    stack[:] = aux_stack\n",
    "\n",
    "def print_stack(stack):\n",
    "    for item in stack:\n",
    "        print(item, end=\" \")\n",
    "\n",
    "# Get user input for the elements of the stack\n",
    "stack_elements = input(\"Enter elements for the stack (space-separated): \").split()\n",
    "stack = list(stack_elements)\n",
    "\n",
    "# Reverse the stack\n",
    "reverse_stack(stack)\n",
    "\n",
    "print(\"Reversed stack:\")\n",
    "print_stack(stack)\n"
   ]
  },
  {
   "cell_type": "code",
   "execution_count": 35,
   "id": "d59facca",
   "metadata": {},
   "outputs": [
    {
     "name": "stdout",
     "output_type": "stream",
     "text": [
      "The smallest number in the stack is: 2\n"
     ]
    }
   ],
   "source": [
    "# Write a program to find the smallest number using a stack.\n",
    "\n",
    "class MinStack:\n",
    "    def __init__(self):\n",
    "        self.stack = []\n",
    "        self.min_stack = []\n",
    "\n",
    "    def push(self, value):\n",
    "        self.stack.append(value)\n",
    "        if not self.min_stack or value <= self.min_stack[-1]:\n",
    "            self.min_stack.append(value)\n",
    "\n",
    "    def pop(self):\n",
    "        if not self.stack:\n",
    "            return None\n",
    "        if self.stack[-1] == self.min_stack[-1]:\n",
    "            self.min_stack.pop()\n",
    "        return self.stack.pop()\n",
    "\n",
    "    def get_min(self):\n",
    "        if not self.min_stack:\n",
    "            return None\n",
    "        return self.min_stack[-1]\n",
    "\n",
    "# Create a MinStack\n",
    "min_stack = MinStack()\n",
    "\n",
    "# Get user input for stack elements\n",
    "stack_elements = input(\"Enter elements for the stack (space-separated): \").split()\n",
    "\n",
    "for element in stack_elements:\n",
    "    min_stack.push(int(element))\n",
    "\n",
    "# Find and print the smallest number\n",
    "smallest_number = min_stack.get_min()\n",
    "\n",
    "if smallest_number is not None:\n",
    "    print(f\"The smallest number in the stack is: {smallest_number}\")\n",
    "else:\n",
    "    print(\"The stack is empty.\")"
   ]
  }
 ],
 "metadata": {
  "kernelspec": {
   "display_name": "Python 3",
   "language": "python",
   "name": "python3"
  },
  "language_info": {
   "codemirror_mode": {
    "name": "ipython",
    "version": 3
   },
   "file_extension": ".py",
   "mimetype": "text/x-python",
   "name": "python",
   "nbconvert_exporter": "python",
   "pygments_lexer": "ipython3",
   "version": "3.11.3"
  }
 },
 "nbformat": 4,
 "nbformat_minor": 5
}
