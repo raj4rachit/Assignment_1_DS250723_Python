{
 "cells": [
  {
   "cell_type": "code",
   "execution_count": 2,
   "id": "initial_id",
   "metadata": {
    "is_executing": true
   },
   "outputs": [
    {
     "name": "stdout",
     "output_type": "stream",
     "text": [
      "Name: John Smith, DOB: 1990-05-15, Height: 175, City: New York, State: NY\n",
      "Name: Alice Johnson, DOB: 1985-10-20, Height: 163, City: Los Angeles, State: CA\n",
      "Name: Robert Brown, DOB: 1992-03-03, Height: 182, City: Chicago, State: IL\n",
      "Name: Emma Davis, DOB: 1988-07-08, Height: 168, City: Houston, State: TX\n",
      "Name: Michael Wilson, DOB: 1995-01-25, Height: 178, City: San Francisco, State: CA\n"
     ]
    }
   ],
   "source": [
    "import json\n",
    "\n",
    "class Employee:\n",
    "    def __init__(self, name, dob, height, city, state):\n",
    "        self.name = name\n",
    "        self.dob = dob\n",
    "        self.height = height\n",
    "        self.city = city\n",
    "        self.state = state\n",
    "\n",
    "    def display(self):\n",
    "        print(f\"Name: {self.name}, DOB: {self.dob}, Height: {self.height}, City: {self.city}, State: {self.state}\")\n",
    "\n",
    "# Attempt to read the JSON file with error handling\n",
    "try:\n",
    "    with open(\"employee.json\", \"r\") as file:\n",
    "        employee_data = json.load(file)\n",
    "except FileNotFoundError:\n",
    "    print(\"The 'employee.json' file was not found.\")\n",
    "    employee_data = []\n",
    "except json.JSONDecodeError:\n",
    "    print(\"Error decoding 'employee.json'. Make sure it contains valid JSON.\")\n",
    "    employee_data = []\n",
    "\n",
    "# Create a list of Employee objects\n",
    "employees = []\n",
    "for data in employee_data:\n",
    "    employee = Employee(data.get(\"Name\", \"\"), data.get(\"DOB\", \"\"), data.get(\"Height\", 0), data.get(\"City\", \"\"), data.get(\"State\", \"\"))\n",
    "    employees.append(employee)\n",
    "\n",
    "# Display the list of Employee objects\n",
    "for employee in employees:\n",
    "    employee.display()\n"
   ]
  },
  {
   "cell_type": "code",
   "execution_count": 21,
   "id": "2aa1f271e48d41fc",
   "metadata": {
    "collapsed": false,
    "jupyter": {
     "outputs_hidden": false
    }
   },
   "outputs": [
    {
     "name": "stdout",
     "output_type": "stream",
     "text": [
      "Enter the name of Indian state 1:  Andhra Prades\n",
      "Enter the capital of Andhra Prades:  Amaravati\n",
      "Enter the name of Indian state 2:  Tamil Nadu\n",
      "Enter the capital of Tamil Nadu:  Chennai\n",
      "Enter the name of Indian state 3:  Maharashtra\n",
      "Enter the capital of Maharashtra:  Mumbai\n",
      "Enter the name of Indian state 4:  Karnataka\n",
      "Enter the capital of Karnataka:  Bengaluru\n",
      "Enter the name of Indian state 5:  Kerala\n",
      "Enter the capital of Kerala:  Thiruvananthapuram\n",
      "Enter the name of Indian state 6:  Uttar Pradesh\n",
      "Enter the capital of Uttar Pradesh:  Lucknow\n",
      "Enter the name of Indian state 7:  Rajasthan\n",
      "Enter the capital of Rajasthan:  Jaipur\n"
     ]
    },
    {
     "name": "stdout",
     "output_type": "stream",
     "text": [
      "Data has been written to 'indian_states.json' file.\n",
      "\n",
      "Data from 'indian_states.json' file:\n",
      "State: Andhra Prades, Capital: Amaravati\n",
      "State: Tamil Nadu, Capital: Chennai\n",
      "State: Maharashtra, Capital: Mumbai\n",
      "State: Karnataka, Capital: Bengaluru\n",
      "State: Kerala, Capital: Thiruvananthapuram\n",
      "State: Uttar Pradesh, Capital: Lucknow\n",
      "State: Rajasthan, Capital: Jaipur\n"
     ]
    }
   ],
   "source": [
    "import json\n",
    "\n",
    "# Create an empty dictionary to store Indian states and their capitals\n",
    "indian_states = {}\n",
    "\n",
    "# Get user input for 7 Indian states and their capitals with error handling\n",
    "for i in range(7):\n",
    "    while True:\n",
    "        state = input(f\"Enter the name of Indian state {i + 1}: \")\n",
    "        capital = input(f\"Enter the capital of {state}: \")\n",
    "        try:\n",
    "            # Check if the user inputs are non-empty\n",
    "            if not state.strip() or not capital.strip():\n",
    "                raise ValueError(\"Both state and capital must not be empty.\")\n",
    "\n",
    "            # Add the state and capital to the dictionary\n",
    "            indian_states[state] = capital\n",
    "            break\n",
    "        except ValueError as e:\n",
    "            print(f\"Error: {e}\")\n",
    "\n",
    "# Write the dictionary to a JSON file\n",
    "with open(\"indian_states.json\", \"w\") as file:\n",
    "    json.dump(indian_states, file, indent=4)\n",
    "\n",
    "print(\"Data has been written to 'indian_states.json' file.\")\n",
    "\n",
    "# Display the data from the JSON file\n",
    "with open(\"indian_states.json\", \"r\") as file:\n",
    "    loaded_data = json.load(file)\n",
    "\n",
    "print(\"\\nData from 'indian_states.json' file:\")\n",
    "for state, capital in loaded_data.items():\n",
    "    print(f\"State: {state}, Capital: {capital}\")\n"
   ]
  },
  {
   "cell_type": "code",
   "execution_count": 25,
   "id": "0d5b98c0-7416-4c03-a8e0-d6252dffe4a7",
   "metadata": {},
   "outputs": [
    {
     "name": "stdout",
     "output_type": "stream",
     "text": [
      "Enter the name of the dog:  Buddy\n",
      "Enter the age of the dog:  3\n",
      "Enter the coat color of the dog:  Red\n"
     ]
    },
    {
     "name": "stdout",
     "output_type": "stream",
     "text": [
      "----------------------------------------------------------\n"
     ]
    },
    {
     "name": "stdout",
     "output_type": "stream",
     "text": [
      "Enter the name of the Jack Russell Terrier:  Rusty\n",
      "Enter the age of the Jack Russell Terrier:  2\n",
      "Enter the coat color of the Jack Russell Terrier:  White and Brown\n",
      "Enter the hunting skill level of the Jack Russell Terrier:  8\n"
     ]
    },
    {
     "name": "stdout",
     "output_type": "stream",
     "text": [
      "----------------------------------------------------------\n"
     ]
    },
    {
     "name": "stdout",
     "output_type": "stream",
     "text": [
      "Enter the name of the Bulldog:  Max\n",
      "Enter the age of the Bulldog:  Brindle\n"
     ]
    },
    {
     "name": "stdout",
     "output_type": "stream",
     "text": [
      "Invalid input. Please enter a valid value.\n"
     ]
    },
    {
     "name": "stdout",
     "output_type": "stream",
     "text": [
      "Enter the age of the Bulldog:  4\n",
      "Enter the coat color of the Bulldog:  Brindle\n",
      "Enter the strength level of the Bulldog:  7\n"
     ]
    },
    {
     "name": "stdout",
     "output_type": "stream",
     "text": [
      "----------------------------------------------------------\n",
      "Buddy is 3 years old.\n",
      "Buddy's coat color is Red.\n",
      "----------------------------------------------------------\n",
      "Rusty is 2 years old.\n",
      "Rusty's coat color is White and Brown.\n",
      "Rusty the Jack Russell Terrier barks loudly!\n",
      "Rusty is hunting with a skill level of 8.\n",
      "----------------------------------------------------------\n",
      "Max is 4 years old.\n",
      "Max's coat color is Brindle.\n",
      "Max the Bulldog is snoring loudly!\n",
      "Max has a strength level of 7.\n"
     ]
    }
   ],
   "source": [
    "class Dog:\n",
    "    def __init__(self, name, age, coat_color):\n",
    "        self.name = name\n",
    "        self.age = age\n",
    "        self.coat_color = coat_color\n",
    "\n",
    "    def description(self):\n",
    "        print(f\"{self.name} is {self.age} years old.\")\n",
    "\n",
    "    def get_info(self):\n",
    "        print(f\"{self.name}'s coat color is {self.coat_color}.\")\n",
    "\n",
    "\n",
    "class JackRussellTerrier(Dog):\n",
    "    def __init__(self, name, age, coat_color, hunting_skill):\n",
    "        super().__init__(name, age, coat_color)\n",
    "        self.hunting_skill = hunting_skill\n",
    "\n",
    "    def bark(self):\n",
    "        print(f\"{self.name} the Jack Russell Terrier barks loudly!\")\n",
    "\n",
    "    def hunt(self):\n",
    "        print(f\"{self.name} is hunting with a skill level of {self.hunting_skill}.\")\n",
    "\n",
    "\n",
    "class Bulldog(Dog):\n",
    "    def __init__(self, name, age, coat_color, strength):\n",
    "        super().__init__(name, age, coat_color)\n",
    "        self.strength = strength\n",
    "\n",
    "    def snore(self):\n",
    "        print(f\"{self.name} the Bulldog is snoring loudly!\")\n",
    "\n",
    "    def show_strength(self):\n",
    "        print(f\"{self.name} has a strength level of {self.strength}.\")\n",
    "\n",
    "\n",
    "def get_user_input(prompt, input_type):\n",
    "    while True:\n",
    "        user_input = input(prompt)\n",
    "        try:\n",
    "            return input_type(user_input)\n",
    "        except ValueError:\n",
    "            print(\"Invalid input. Please enter a valid value.\")\n",
    "\n",
    "\n",
    "# Get user input for Dog object\n",
    "dog_name = input(\"Enter the name of the dog: \")\n",
    "dog_age = get_user_input(\"Enter the age of the dog: \", int)\n",
    "dog_coat_color = input(\"Enter the coat color of the dog: \")\n",
    "print(f\"----------------------------------------------------------\")\n",
    "dog1 = Dog(dog_name, dog_age, dog_coat_color)\n",
    "\n",
    "# Get user input for JackRussellTerrier object\n",
    "jr_name = input(\"Enter the name of the Jack Russell Terrier: \")\n",
    "jr_age = get_user_input(\"Enter the age of the Jack Russell Terrier: \", int)\n",
    "jr_coat_color = input(\"Enter the coat color of the Jack Russell Terrier: \")\n",
    "jr_hunting_skill = get_user_input(\"Enter the hunting skill level of the Jack Russell Terrier: \", int)\n",
    "print(f\"----------------------------------------------------------\")\n",
    "dog2 = JackRussellTerrier(jr_name, jr_age, jr_coat_color, jr_hunting_skill)\n",
    "\n",
    "# Get user input for Bulldog object\n",
    "bulldog_name = input(\"Enter the name of the Bulldog: \")\n",
    "bulldog_age = get_user_input(\"Enter the age of the Bulldog: \", int)\n",
    "bulldog_coat_color = input(\"Enter the coat color of the Bulldog: \")\n",
    "bulldog_strength = get_user_input(\"Enter the strength level of the Bulldog: \", int)\n",
    "print(f\"----------------------------------------------------------\")\n",
    "dog3 = Bulldog(bulldog_name, bulldog_age, bulldog_coat_color, bulldog_strength)\n",
    "\n",
    "# Calling methods on Dog objects\n",
    "dog1.description()\n",
    "dog1.get_info()\n",
    "print(f\"----------------------------------------------------------\")\n",
    "\n",
    "# Calling methods on JackRussellTerrier object\n",
    "dog2.description()\n",
    "dog2.get_info()\n",
    "dog2.bark()\n",
    "dog2.hunt()\n",
    "print(f\"----------------------------------------------------------\")\n",
    "\n",
    "# Calling methods on Bulldog object\n",
    "dog3.description()\n",
    "dog3.get_info()\n",
    "dog3.snore()\n",
    "dog3.show_strength()\n"
   ]
  },
  {
   "cell_type": "code",
   "execution_count": null,
   "id": "8848feea-e10a-4364-b960-2ed214e0f2e8",
   "metadata": {},
   "outputs": [],
   "source": []
  }
 ],
 "metadata": {
  "kernelspec": {
   "display_name": "Python 3 (ipykernel)",
   "language": "python",
   "name": "python3"
  },
  "language_info": {
   "codemirror_mode": {
    "name": "ipython",
    "version": 3
   },
   "file_extension": ".py",
   "mimetype": "text/x-python",
   "name": "python",
   "nbconvert_exporter": "python",
   "pygments_lexer": "ipython3",
   "version": "3.10.9"
  }
 },
 "nbformat": 4,
 "nbformat_minor": 5
}
